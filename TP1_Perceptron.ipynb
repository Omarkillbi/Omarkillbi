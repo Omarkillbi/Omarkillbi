{
  "nbformat": 4,
  "nbformat_minor": 0,
  "metadata": {
    "kernelspec": {
      "display_name": "Python 3",
      "language": "python",
      "name": "python3"
    },
    "language_info": {
      "codemirror_mode": {
        "name": "ipython",
        "version": 3
      },
      "file_extension": ".py",
      "mimetype": "text/x-python",
      "name": "python",
      "nbconvert_exporter": "python",
      "pygments_lexer": "ipython3",
      "version": "3.7.3"
    },
    "colab": {
      "name": "TP1-Perceptron.ipynb",
      "provenance": [],
      "collapsed_sections": []
    }
  },
  "cells": [
    {
      "cell_type": "markdown",
      "metadata": {
        "id": "ktA6jJhSpqIL"
      },
      "source": [
        "# **TP Perceptron** \n",
        "## Omar Kilbi \n",
        "MPDS2"
      ]
    },
    {
      "cell_type": "code",
      "metadata": {
        "colab": {
          "base_uri": "https://localhost:8080/"
        },
        "id": "cU34Gc0nn0Jt",
        "outputId": "ecb86885-a151-4b7a-8a6b-b22b6e3457f8"
      },
      "source": [
        "from google.colab import drive\n",
        "drive.mount('/gdrive')"
      ],
      "execution_count": null,
      "outputs": [
        {
          "output_type": "stream",
          "name": "stdout",
          "text": [
            "Mounted at /gdrive\n"
          ]
        }
      ]
    },
    {
      "cell_type": "code",
      "metadata": {
        "id": "NLr6ItIIn0J1"
      },
      "source": [
        "with open('/gdrive/My Drive/foo.txt', 'w') as f:\n",
        "  f.write('Hello Google Drive!')\n",
        "!cat '/gdrive/My Drive/foo.txt'"
      ],
      "execution_count": null,
      "outputs": []
    },
    {
      "cell_type": "code",
      "metadata": {
        "colab": {
          "base_uri": "https://localhost:8080/"
        },
        "id": "-hlj5CnuoagS",
        "outputId": "3f3a5ac1-2332-4913-ccab-55cf195b38e6"
      },
      "source": [
        "import os\n",
        "os.chdir('/gdrive/My Drive/Deep Learning/DL-TP1-etudiant/')\n",
        "os.getcwd()\n",
        "os.listdir()"
      ],
      "execution_count": null,
      "outputs": [
        {
          "output_type": "execute_result",
          "data": {
            "text/plain": [
              "['TP1-Perceptron.ipynb',\n",
              " 'lr_utils.py',\n",
              " 'datasets',\n",
              " 'images',\n",
              " 'perceptron.ipynb']"
            ]
          },
          "metadata": {},
          "execution_count": 4
        }
      ]
    },
    {
      "cell_type": "markdown",
      "metadata": {
        "id": "FQibrzKSnrGv"
      },
      "source": [
        "# Regression logistique\n",
        "\n",
        "**Objectif :**\n",
        "\n",
        "Conception et implémentation d'un perceptron pour des fins de classification \n"
      ]
    },
    {
      "cell_type": "markdown",
      "metadata": {
        "id": "xjInY2FlnrHG"
      },
      "source": [
        "## 1 - Packages ##\n",
        "\n",
        "Téléchargement des packages \n",
        "- [numpy](http://www.numpy.org) --> calcul numérique.\n",
        "- [h5py](http://www.h5py.org) --> gestion des fichiers .H5\n",
        "- [matplotlib](http://matplotlib.org) --> graphique en Python\n",
        "- [PIL](https://python-pillow.org/) --> traitement des images (Rq : pour Python 3 : pip install pillow)\n",
        "- [scipy](https://www.scipy.org/) --> calcul scientifique"
      ]
    },
    {
      "cell_type": "code",
      "metadata": {
        "id": "N73gmEtCnrHV"
      },
      "source": [
        "import numpy as np\n",
        "import matplotlib.pyplot as plt\n",
        "import h5py\n",
        "import scipy\n",
        "from PIL import Image\n",
        "from skimage.transform import rescale, resize\n",
        "import scipy\n",
        "from lr_utils import load_dataset"
      ],
      "execution_count": null,
      "outputs": []
    },
    {
      "cell_type": "markdown",
      "metadata": {
        "id": "MYFAWGWSnrHh"
      },
      "source": [
        "## 2 - Problématique ##\n",
        "\n",
        "**Base**: \n",
        "\n",
        "La base (\"data.h5\") contient:\n",
        "    - base d'apprentissage (m_train) images étiquettées chat (y=1) or non-chat (y=0)\n",
        "    - base de test (m_test) images \n",
        "    - dim image (num_px, num_px, 3) \n",
        "    \n",
        "**Objectif :**\n",
        "\n",
        "Classifier les images selon leurs contenus chat/non-chat via un perceptron"
      ]
    },
    {
      "cell_type": "code",
      "metadata": {
        "id": "6iu5JN3UnrHk"
      },
      "source": [
        "# Téléchargement\n",
        "train_set_x_orig, train_set_y, test_set_x_orig, test_set_y, classes = load_dataset()"
      ],
      "execution_count": null,
      "outputs": []
    },
    {
      "cell_type": "code",
      "metadata": {
        "colab": {
          "base_uri": "https://localhost:8080/"
        },
        "id": "4gbhFTK8rmpy",
        "outputId": "b6c7355a-ba0c-4156-c08f-95c66dcd8419"
      },
      "source": [
        "train_set_x_orig.shape\n",
        "type(train_set_x_orig )"
      ],
      "execution_count": null,
      "outputs": [
        {
          "output_type": "execute_result",
          "data": {
            "text/plain": [
              "numpy.ndarray"
            ]
          },
          "metadata": {},
          "execution_count": 9
        }
      ]
    },
    {
      "cell_type": "code",
      "metadata": {
        "colab": {
          "base_uri": "https://localhost:8080/",
          "height": 285
        },
        "id": "Y35zYvuxnrHm",
        "outputId": "874e3c91-1e44-4f06-f1e1-8ed0d93d9b49"
      },
      "source": [
        "# Exemple : image numéro 25\n",
        "# changer l'indice pour explorer la base\n",
        "index = 24\n",
        "plt.imshow(train_set_x_orig[index])\n",
        "print (\"y = \" + str(train_set_y[:, index]))"
      ],
      "execution_count": null,
      "outputs": [
        {
          "output_type": "stream",
          "name": "stdout",
          "text": [
            "y = [1]\n"
          ]
        },
        {
          "output_type": "display_data",
          "data": {
            "image/png": "[encoded data removed]",
            "text/plain": [
              "<Figure size 432x288 with 1 Axes>"
            ]
          },
          "metadata": {
            "needs_background": "light"
          }
        }
      ]
    },
    {
      "cell_type": "markdown",
      "metadata": {
        "id": "4sgTJfzWnrHz"
      },
      "source": [
        "Il est important de déterminer les dimensions de la base\n",
        "\n",
        "**Exercise:** trouver les valeurs\n",
        "    - m_train \n",
        "    - m_test \n",
        "    - num_px \n",
        "\n",
        "Remarque : utiliser la méthode (.shape)"
      ]
    },
    {
      "cell_type": "code",
      "metadata": {
        "colab": {
          "base_uri": "https://localhost:8080/"
        },
        "id": "Uf613Wr8nrH3",
        "outputId": "0f12ec6e-feeb-42ff-89f8-cdd84d98eeb1"
      },
      "source": [
        "## afficher les dimensions de la base d'pprentissage, test, \n",
        "print(\" les dim de la base:{train_set_x_orig.shape:} Voir la suite\")\n",
        "\n",
        "### Votre code ### \n",
        "m_train = train_set_x_orig.shape\n",
        "m_test = test_set_x_orig.shape \n",
        "num_px = train_set_x_orig.shape[1]\n",
        "### Fin ###\n",
        "\n",
        "print (\"m_train = \" + str(m_train))\n",
        "print (\"m_test = \" + str(m_test))\n",
        "print (\"longueur/largeur de l'image: num_px = \" + str(num_px))\n",
        "\n",
        "## Afficher les dimensions de tous les données nécessaires à la mise en oeuvre du perceptron\n",
        "train_set_x_orig.shape\n",
        "\n"
      ],
      "execution_count": null,
      "outputs": [
        {
          "output_type": "stream",
          "name": "stdout",
          "text": [
            " les dim de la base:{train_set_x_orig.shape:} Voir la suite\n",
            "m_train = (209, 64, 64, 3)\n",
            "m_test = (50, 64, 64, 3)\n",
            "longueur/largeur de l'image: num_px = 64\n"
          ]
        },
        {
          "output_type": "execute_result",
          "data": {
            "text/plain": [
              "(209, 64, 64, 3)"
            ]
          },
          "metadata": {},
          "execution_count": 26
        }
      ]
    },
    {
      "cell_type": "markdown",
      "metadata": {
        "id": "do0CNf3anrID"
      },
      "source": [
        "**Mis en forme des données d'entrée**\n",
        "\n",
        "- Mettre sous forme de vecteur les images de la base d'apprentissage \n",
        "- Utiliser la méthode (.reshape). pour passer d'une matrice (a,b,c,d) à une matrice (b$*$c$*$d,a) utiliser \n",
        "```python\n",
        "X_flatten = X.reshape(X.shape[0], -1).T      # .T opérateur transposée\n",
        "```"
      ]
    },
    {
      "cell_type": "code",
      "metadata": {
        "colab": {
          "base_uri": "https://localhost:8080/"
        },
        "id": "VQX6Fh3InrIG",
        "outputId": "bd089c82-6396-4842-dc78-2c402f0d8364"
      },
      "source": [
        "# Mise en forme\n",
        "\n",
        "### Votre code ### \n",
        "train_set_x_flatten = train_set_x_orig.reshape(train_set_x_orig.shape[0], -1).T\n",
        "test_set_x_flatten = test_set_x_orig.reshape(test_set_x_orig.shape[0], -1).T\n",
        "### Fin ###\n",
        "\n",
        "print (\"train_set_x_flatten shape: \" + str(train_set_x_flatten.shape))\n",
        "print (\"train_set_y shape: \" + str(train_set_y.shape))\n",
        "print (\"test_set_x_flatten shape: \" + str(test_set_x_flatten.shape))\n",
        "print (\"test_set_y shape: \" + str(test_set_y.shape))\n",
        "print (\"sanity check after reshaping: \" + str(train_set_x_flatten[0:5,0]))"
      ],
      "execution_count": null,
      "outputs": [
        {
          "output_type": "stream",
          "name": "stdout",
          "text": [
            "train_set_x_flatten shape: (12288, 209)\n",
            "train_set_y shape: (1, 209)\n",
            "test_set_x_flatten shape: (12288, 50)\n",
            "test_set_y shape: (1, 50)\n",
            "sanity check after reshaping: [17 31 56 22 33]\n"
          ]
        }
      ]
    },
    {
      "cell_type": "markdown",
      "metadata": {
        "id": "MZM2pdUEnrIR"
      },
      "source": [
        "**Résultats attendus**: \n",
        "\n",
        "<table style=\"width:35%\">\n",
        "  <tr>\n",
        "    <td>**train_set_x_flatten shape**</td>\n",
        "    <td> (12288, 209)</td> \n",
        "  </tr>\n",
        "  <tr>\n",
        "    <td>**train_set_y shape**</td>\n",
        "    <td>(1, 209)</td> \n",
        "  </tr>\n",
        "  <tr>\n",
        "    <td>**test_set_x_flatten shape**</td>\n",
        "    <td>(12288, 50)</td> \n",
        "  </tr>\n",
        "  <tr>\n",
        "    <td>**test_set_y shape**</td>\n",
        "    <td>(1, 50)</td> \n",
        "  </tr>\n",
        "  <tr>\n",
        "  <td>**sanity check after reshaping**</td>\n",
        "  <td>[17 31 56 22 33]</td> \n",
        "  </tr>\n",
        "</table>"
      ]
    },
    {
      "cell_type": "code",
      "metadata": {
        "id": "ViyA2yzunrIV"
      },
      "source": [
        "## Normalisation des données d'entrées\n",
        "## Normaliser les image d'apprentissage \n",
        "train_set_x = train_set_x_flatten/255\n",
        "test_set_x = test_set_x_flatten/255"
      ],
      "execution_count": null,
      "outputs": []
    },
    {
      "cell_type": "markdown",
      "metadata": {
        "id": "vEr4OZWhnrIX"
      },
      "source": [
        "## 3 - Architecture de l'alogorithme d'apprentissage ##\n",
        "\n",
        "- A l'aide d'un schéma, représenter le perceptron ainsi les données d'apprentissage, les paramètres,... n'oublier pas les dimensions des objets manipulés. \n",
        "\n",
        "\n",
        "**Expressions mathématiques de l'alogorithme**:\n",
        "\n",
        "Pour une instance $x^{(i)}$:\n",
        "$$z^{(i)} = w^T x^{(i)} + b \\tag{1}$$\n",
        "$$\\hat{y}^{(i)} = v^{(i)} = sigmoid(z^{(i)})\\tag{2}$$ \n",
        "$$ \\mathcal{L}(v^{(i)}, y^{(i)}) =  - y^{(i)}  \\log(v^{(i)}) - (1-y^{(i)} )  \\log(1-v^{(i)})\\tag{3}$$\n",
        "\n",
        "La fonction coût est calculée à partir de toutes les instances d'apprentissage:\n",
        "$$ J = \\frac{1}{m} \\sum_{i=1}^m \\mathcal{L}(v^{(i)}, y^{(i)})\\tag{6}$$\n",
        "\n",
        "**Etapes à suivre**:\n",
        "\n",
        "- Initialisation les paramètres\n",
        "- Apprentissage des paramètres du modèle\n",
        "- Utilisation du modèle pour prédire s'il y en a un chat ou non dans une image\n",
        "- Analyse des résultats"
      ]
    },
    {
      "cell_type": "markdown",
      "metadata": {
        "id": "ZbzZNaX6nrIf"
      },
      "source": [
        "## 4 - Algorithme ##\n",
        "\n",
        "### 4.1 - Fonction d'activation\n",
        "\n",
        "**Exercice**: Implémenter la fonction sigmoïd \"sigmoid()\" : $sigmoid( w^T x + b) = \\frac{1}{1 + e^{-(w^T x + b)}}$ "
      ]
    },
    {
      "cell_type": "code",
      "metadata": {
        "id": "TDESz28anrIh"
      },
      "source": [
        "def sigmoid(z):\n",
        "  return 1/(1+np.exp(-z))\n"
      ],
      "execution_count": null,
      "outputs": []
    },
    {
      "cell_type": "code",
      "metadata": {
        "colab": {
          "base_uri": "https://localhost:8080/"
        },
        "id": "UEniBMMVnrIj",
        "outputId": "74e62ee2-0599-4e12-de22-f9f0cac20b48"
      },
      "source": [
        "# tester la fonction sigmoid\n",
        "print (\"sigmoid([0, 2]) = \" + str(sigmoid(np.array([0,2]))))"
      ],
      "execution_count": null,
      "outputs": [
        {
          "output_type": "stream",
          "name": "stdout",
          "text": [
            "sigmoid([0, 2]) = [0.5        0.88079708]\n"
          ]
        }
      ]
    },
    {
      "cell_type": "markdown",
      "metadata": {
        "id": "3KXCw-HKnrIl"
      },
      "source": [
        "**Résultat attendus**: \n",
        "\n",
        "<table>\n",
        "  <tr>\n",
        "    <td>**sigmoid([0, 2])**</td>\n",
        "    <td> [ 0.5         0.88079708]</td> \n",
        "  </tr>\n",
        "</table>"
      ]
    },
    {
      "cell_type": "markdown",
      "metadata": {
        "id": "ihv20l25nrIm"
      },
      "source": [
        "### 4.2 - Initialisation des paramètres\n",
        "\n",
        "**Exercice:** Imlémenter une fonction qui initialise les paramètres du modèles (W,b) à zéros \"initialize_with_zeros(dim)\" \n",
        "\n",
        "avec dim = taille de W"
      ]
    },
    {
      "cell_type": "code",
      "metadata": {
        "id": "wJ5dDfpynrIo"
      },
      "source": [
        "def initialize_with_zeros (dim):\n",
        "    w = np.zeros(shape=(dim,1), dtype=float)\n",
        "    b = 0.0\n",
        "    return w, b"
      ],
      "execution_count": null,
      "outputs": []
    },
    {
      "cell_type": "code",
      "metadata": {
        "colab": {
          "base_uri": "https://localhost:8080/"
        },
        "id": "bHREHDSjnrIp",
        "outputId": "7b68a349-eeef-46bc-bad6-2dc63f236583"
      },
      "source": [
        "# tester la fonction d'initialisation \n",
        "w,b = initialize_with_zeros(1)\n",
        "type(w)\n",
        "w[0:10]"
      ],
      "execution_count": null,
      "outputs": [
        {
          "output_type": "execute_result",
          "data": {
            "text/plain": [
              "array([[0.]])"
            ]
          },
          "metadata": {},
          "execution_count": 17
        }
      ]
    },
    {
      "cell_type": "markdown",
      "metadata": {
        "id": "yE__1sWqnrIv"
      },
      "source": [
        "### 4.3 - Propagation & Retropropagation \n",
        "\n",
        "**Exercice:** Implémenter la fonction `propagate()` qui calcul la fonction coût ainsi son Gradient.\n",
        "\n",
        "Propagation:\n",
        "- La valeur prédite $V = \\sigma(w^T X + b) = (v^{(0)}, v^{(1)}, ..., v^{(m-1)}, v^{(m)})$\n",
        "- La fonction coût $J = -\\frac{1}{m}\\sum_{i=1}^{m}y^{(i)}\\log(v^{(i)})+(1-y^{(i)})\\log(1-v^{(i)})$\n",
        "\n",
        "\n",
        "\n",
        "$$ \\frac{\\partial J}{\\partial w} = \\frac{1}{m}X(V-Y)^T\\tag{7}$$\n",
        "$$ \\frac{\\partial J}{\\partial b} = \\frac{1}{m} \\sum_{i=1}^m (v^{(i)}-y^{(i)})\\tag{8}$$\n"
      ]
    },
    {
      "cell_type": "code",
      "metadata": {
        "id": "5XepKiiOnrIy"
      },
      "source": [
        "# GRADED FUNCTION: propagate\n",
        "\n",
        "def propagate(w, b, X, Y):\n",
        "    \"\"\"\n",
        "    Fonction coût et son gradient\n",
        "\n",
        "    Entrées:\n",
        "    w --  (num_px * num_px * 3, 1)\n",
        "    b --  (1,1)\n",
        "    X --  images (num_px * num_px * 3, number of examples)\n",
        "    Y --  étiquette\n",
        "\n",
        "    Sorties:\n",
        "    cost -- coût\n",
        "    dw -- \n",
        "    db -- \n",
        "    \"\"\"\n",
        "        \n",
        "    # Propagation \n",
        "    V = sigmoid(np.dot(w.T,X) + b) \n",
        "    m = X.shape[0]     \n",
        "    cost = -1/m * (np.sum((Y * np.log(V)) + (1-Y) * np.log(1 - V),  axis=1))\n",
        "    \n",
        "    \n",
        "    # Retropropagation \n",
        "    dw = 1/m * np.dot(X, (V - Y).T)\n",
        "    db = 1/m * np.sum((V - Y), axis=1)\n",
        "    \n",
        "    grads = {\"dw\": dw,\n",
        "             \"db\": db}\n",
        "    \n",
        "    return grads, cost"
      ],
      "execution_count": null,
      "outputs": []
    },
    {
      "cell_type": "code",
      "metadata": {
        "colab": {
          "base_uri": "https://localhost:8080/"
        },
        "id": "7BKd9ekJnrIz",
        "outputId": "548ce099-779b-4725-d2af-8ef444aa49b0"
      },
      "source": [
        "# test de la fonction propagate\n",
        "w, b, X, Y = np.array([[1],[2]]), 2, np.array([[1,2],[3,4]]), np.array([[1,0]])\n",
        "grads, cost = propagate(w, b, X, Y)\n",
        "print (\"dw = \" + str(grads[\"dw\"]))\n",
        "print (\"db = \" + str(grads[\"db\"]))\n",
        "print (\"cost = \" + str(cost))"
      ],
      "execution_count": null,
      "outputs": [
        {
          "output_type": "stream",
          "name": "stdout",
          "text": [
            "dw = [[0.99993216]\n",
            " [1.99980262]]\n",
            "db = [0.49993523]\n",
            "cost = [6.00006477]\n"
          ]
        }
      ]
    },
    {
      "cell_type": "markdown",
      "metadata": {
        "id": "IUuFKzfInrI1"
      },
      "source": [
        "**Résultats attendus**:\n",
        "\n",
        "<table style=\"width:50%\">\n",
        "    <tr>\n",
        "        <td>  ** dw **  </td>\n",
        "        <td> [[ 0.99993216]\n",
        " [ 1.99980262]]</td>\n",
        "    </tr>\n",
        "    <tr>\n",
        "        <td>  ** db **  </td>\n",
        "        <td> 0.499935230625 </td>\n",
        "    </tr>\n",
        "    <tr>\n",
        "        <td>  ** cost **  </td>\n",
        "        <td> 6.000064773192205</td>\n",
        "    </tr>\n",
        "\n",
        "</table>"
      ]
    },
    {
      "cell_type": "markdown",
      "metadata": {
        "id": "w08cl__vnrI2"
      },
      "source": [
        "### d) Optimisation (apprentissage)\n",
        "\n",
        "**Exercise:** Ecrire une fonction d'apprentissage ==> w et b en minimisant la fonction coût \n",
        "\n"
      ]
    },
    {
      "cell_type": "code",
      "metadata": {
        "id": "8G15_OnGnrI3"
      },
      "source": [
        "def optimize(w, b, X, Y, num_iterations, learning_rate, print_cost = False):\n",
        "    \"\"\"\n",
        "    Arguments:\n",
        "    w -- Poids synaptiques (num_px * num_px * 3, 1)\n",
        "    b -- bias\n",
        "    X -- images d'apprentissage (num_px * num_px * 3, number of examples)\n",
        "    Y -- étiquette\n",
        "    num_iterations -- nombre d'époques (epochs)  \n",
        "    learning_rate -- \n",
        "    print_cost -- True impression de la fonction coût chaque 100 étapes\n",
        "    \n",
        "    Returns:\n",
        "    params -- dictionaire contenant w et le bias b\n",
        "    grads --  dictionaire contenant les gradients \n",
        "    costs --  liste de tous les coûts (sera utilisé ultérieurement).\n",
        "    \n",
        "    \"\"\"\n",
        "    \n",
        "    costs = []\n",
        "    \n",
        "    for i in range(num_iterations):\n",
        "        \n",
        "        grads, cost = propagate(w, b, X, Y)\n",
        "        \n",
        "        dw = grads[\"dw\"]\n",
        "        db = grads[\"db\"]\n",
        "        \n",
        "        w = w - learning_rate * dw\n",
        "        b = b - learning_rate * db\n",
        "                \n",
        "        # enregistrement des coût\n",
        "        if i % 100 == 0:\n",
        "            costs.append(cost)\n",
        "        \n",
        "        # affichage du coût chaque 100 instances\n",
        "        if print_cost and i % 100 == 0:\n",
        "            print (\"Cost after iteration %i: %f\" %(i, cost))\n",
        "    \n",
        "    params = {\"w\": w,\n",
        "              \"b\": b}\n",
        "    \n",
        "    grads = {\"dw\": dw,\n",
        "             \"db\": db}\n",
        "    \n",
        "    return params, grads, costs"
      ],
      "execution_count": null,
      "outputs": []
    },
    {
      "cell_type": "code",
      "metadata": {
        "colab": {
          "base_uri": "https://localhost:8080/"
        },
        "id": "KTLVXU8TnrI-",
        "outputId": "3a27fa1d-abeb-420f-d196-e9a203407f0b"
      },
      "source": [
        "# test de la fonction\n",
        "params, grads, costs = optimize(w, b, X, Y, num_iterations = 1200, learning_rate = 0.009, print_cost = True)\n",
        "\n",
        "print (\"w = \" + str(params[\"w\"]))\n",
        "print (\"b = \" + str(params[\"b\"]))\n",
        "print (\"dw = \" + str(grads[\"dw\"]))\n",
        "print (\"db = \" + str(grads[\"db\"]))"
      ],
      "execution_count": null,
      "outputs": [
        {
          "output_type": "stream",
          "name": "stdout",
          "text": [
            "Cost after iteration 0: 6.000065\n",
            "Cost after iteration 100: 1.431400\n",
            "Cost after iteration 200: 0.555462\n",
            "Cost after iteration 300: 0.539181\n",
            "Cost after iteration 400: 0.524624\n",
            "Cost after iteration 500: 0.510649\n",
            "Cost after iteration 600: 0.497230\n",
            "Cost after iteration 700: 0.484340\n",
            "Cost after iteration 800: 0.471956\n",
            "Cost after iteration 900: 0.460054\n",
            "Cost after iteration 1000: 0.448614\n",
            "Cost after iteration 1100: 0.437612\n",
            "w = [[-1.15029267]\n",
            " [-0.14961715]]\n",
            "b = [2.00033776]\n",
            "dw = [[ 0.08881864]\n",
            " [-0.0229142 ]]\n",
            "db = [-0.05586642]\n"
          ]
        }
      ]
    },
    {
      "cell_type": "markdown",
      "metadata": {
        "id": "54uCYQ6FnrJA"
      },
      "source": [
        "**Resultats attendus**: \n",
        "\n",
        "<table style=\"width:40%\">\n",
        "    <tr>\n",
        "       <td> **w** </td>\n",
        "       <td>[[ 0.1124579 ]\n",
        " [ 0.23106775]] </td>\n",
        "    </tr>    \n",
        "    <tr>\n",
        "       <td> **b** </td>\n",
        "       <td> 1.55930492484 </td>\n",
        "    </tr>\n",
        "    <tr>\n",
        "       <td> **dw** </td>\n",
        "       <td> [[ 0.90158428]\n",
        " [ 1.76250842]] </td>\n",
        "    </tr>\n",
        "    <tr>\n",
        "       <td> **db** </td>\n",
        "       <td> 0.430462071679 </td>\n",
        "    </tr>\n",
        "\n",
        "</table>"
      ]
    },
    {
      "cell_type": "markdown",
      "metadata": {
        "id": "rdYrT59YnrJB"
      },
      "source": [
        "### e) Prédiction\n",
        "\n",
        "**Exercise:**  Implémenter une fonction \"predict()\" qui prédit l'étiquette d'une image.    \n",
        " \n",
        "Deux étapes :\n",
        "\n",
        "1. Calculer $\\hat{Y} = V = \\sigma(w^T X + b)$\n",
        "\n",
        "2. Convertion 0 (si activation <= 0.5) ou 1 (si activation > 0.5), puis enregistrer les prédictions dans un vecteur `Y_prediction` "
      ]
    },
    {
      "cell_type": "code",
      "metadata": {
        "id": "WuxTQoQknrJC"
      },
      "source": [
        "def predict(w, b, X):\n",
        "    '''\n",
        "    Sortie:\n",
        "    Y_prediction -- \n",
        "    '''\n",
        "    \n",
        "    m = X.shape[1]\n",
        "    Y_prediction = np.zeros((1,m))\n",
        "    w = w.reshape(X.shape[0], 1)\n",
        "    \n",
        "    None\n",
        "      \n",
        "        \n",
        "    return Y_prediction"
      ],
      "execution_count": null,
      "outputs": []
    },
    {
      "cell_type": "code",
      "metadata": {
        "id": "k447DL7_nrJD",
        "outputId": "8baaa12b-86e0-4af5-be5c-8ddf6b72579e"
      },
      "source": [
        "# test de la fonction\n",
        "print (\"predictions = \" + str(predict(w, b, X)))"
      ],
      "execution_count": null,
      "outputs": [
        {
          "ename": "NameError",
          "evalue": "name 'predict' is not defined",
          "output_type": "error",
          "traceback": [
            "\u001b[1;31m---------------------------------------------------------------------------\u001b[0m",
            "\u001b[1;31mNameError\u001b[0m                                 Traceback (most recent call last)",
            "\u001b[1;32m<ipython-input-30-a5a2731f45b6>\u001b[0m in \u001b[0;36m<module>\u001b[1;34m\u001b[0m\n\u001b[0;32m      1\u001b[0m \u001b[1;31m#test de la fonction\u001b[0m\u001b[1;33m\u001b[0m\u001b[1;33m\u001b[0m\u001b[1;33m\u001b[0m\u001b[0m\n\u001b[1;32m----> 2\u001b[1;33m \u001b[0mprint\u001b[0m \u001b[1;33m(\u001b[0m\u001b[1;34m\"predictions = \"\u001b[0m \u001b[1;33m+\u001b[0m \u001b[0mstr\u001b[0m\u001b[1;33m(\u001b[0m\u001b[0mpredict\u001b[0m\u001b[1;33m(\u001b[0m\u001b[0mw\u001b[0m\u001b[1;33m,\u001b[0m \u001b[0mb\u001b[0m\u001b[1;33m,\u001b[0m \u001b[0mX\u001b[0m\u001b[1;33m)\u001b[0m\u001b[1;33m)\u001b[0m\u001b[1;33m)\u001b[0m\u001b[1;33m\u001b[0m\u001b[1;33m\u001b[0m\u001b[0m\n\u001b[0m",
            "\u001b[1;31mNameError\u001b[0m: name 'predict' is not defined"
          ]
        }
      ]
    },
    {
      "cell_type": "markdown",
      "metadata": {
        "id": "TnwrBkbXnrJF"
      },
      "source": [
        "**Résultat attendus**: \n",
        "\n",
        "<table style=\"width:30%\">\n",
        "    <tr>\n",
        "         <td>\n",
        "             **predictions**\n",
        "         </td>\n",
        "          <td>\n",
        "            [[ 1.  1.]]\n",
        "         </td>  \n",
        "   </tr>\n",
        "\n",
        "</table>\n"
      ]
    },
    {
      "cell_type": "markdown",
      "metadata": {
        "id": "Xjzo9eLDnrJG"
      },
      "source": [
        "## 5 - Modèle global ##\n",
        "\n",
        "Implémentation de l'ensemble du modèle\n",
        "\n",
        "**Exercise:** Implementer le modèle en utilisant les notations suivantes :\n",
        "    - Y_prediction : prédiction (base test) \n",
        "    - Y_prediction_train : prédiction (base apprentissage)\n",
        "    - w, costs, grads sorties de optimize()"
      ]
    },
    {
      "cell_type": "code",
      "metadata": {
        "id": "k8BEFeiknrJG"
      },
      "source": [
        "def model(X_train, Y_train, X_test, Y_test, num_iterations = 2000, learning_rate = 0.5, print_cost = False):\n",
        "    \"\"\"\n",
        "    print_cost = True  -- affichage du coût chaque 100 itérations \n",
        "    \n",
        "    d -- dictionaire contenant le modèle \n",
        "    \"\"\"\n",
        "    \n",
        "    # initialisation \n",
        "    w, b = None\n",
        "\n",
        "    # Gradient descendent \n",
        "    parameters, grads, costs = None\n",
        "    \n",
        "    # extraction de w et b\n",
        "    w = parameters[\"w\"]\n",
        "    b = parameters[\"b\"]\n",
        "    \n",
        "    # Prediction test/apprentissage \n",
        "    Y_prediction_test = None\n",
        "    Y_prediction_train = None\n",
        "\n",
        "    \n",
        "    # Affichage erreur de prédiction\n",
        "    print(\"train accuracy: {} %\".format(100 - np.mean(np.abs(Y_prediction_train - Y_train)) * 100))\n",
        "    print(\"test accuracy: {} %\".format(100 - np.mean(np.abs(Y_prediction_test - Y_test)) * 100))\n",
        "\n",
        "    \n",
        "    d = {\"costs\": costs,\n",
        "         \"Y_prediction_test\": Y_prediction_test, \n",
        "         \"Y_prediction_train\" : Y_prediction_train, \n",
        "         \"w\" : w, \n",
        "         \"b\" : b,\n",
        "         \"learning_rate\" : learning_rate,\n",
        "         \"num_iterations\": num_iterations}\n",
        "    \n",
        "    return d"
      ],
      "execution_count": null,
      "outputs": []
    },
    {
      "cell_type": "code",
      "metadata": {
        "id": "gKK8BwfmnrJI",
        "outputId": "ef4c445b-b99d-4882-cc65-a871bfd1a24d"
      },
      "source": [
        "# tester le modèle\n",
        "d = model(train_set_x, train_set_y, test_set_x, test_set_y, num_iterations = 2000, learning_rate = 0.005, print_cost = True)"
      ],
      "execution_count": null,
      "outputs": [
        {
          "ename": "NameError",
          "evalue": "name 'model' is not defined",
          "output_type": "error",
          "traceback": [
            "\u001b[1;31m---------------------------------------------------------------------------\u001b[0m",
            "\u001b[1;31mNameError\u001b[0m                                 Traceback (most recent call last)",
            "\u001b[1;32m<ipython-input-28-4845e29757a5>\u001b[0m in \u001b[0;36m<module>\u001b[1;34m\u001b[0m\n\u001b[0;32m      1\u001b[0m \u001b[1;31m# tester le modèle\u001b[0m\u001b[1;33m\u001b[0m\u001b[1;33m\u001b[0m\u001b[1;33m\u001b[0m\u001b[0m\n\u001b[1;32m----> 2\u001b[1;33m \u001b[0md\u001b[0m \u001b[1;33m=\u001b[0m \u001b[0mmodel\u001b[0m\u001b[1;33m(\u001b[0m\u001b[0mtrain_set_x\u001b[0m\u001b[1;33m,\u001b[0m \u001b[0mtrain_set_y\u001b[0m\u001b[1;33m,\u001b[0m \u001b[0mtest_set_x\u001b[0m\u001b[1;33m,\u001b[0m \u001b[0mtest_set_y\u001b[0m\u001b[1;33m,\u001b[0m \u001b[0mnum_iterations\u001b[0m \u001b[1;33m=\u001b[0m \u001b[1;36m2000\u001b[0m\u001b[1;33m,\u001b[0m \u001b[0mlearning_rate\u001b[0m \u001b[1;33m=\u001b[0m \u001b[1;36m0.005\u001b[0m\u001b[1;33m,\u001b[0m \u001b[0mprint_cost\u001b[0m \u001b[1;33m=\u001b[0m \u001b[1;32mTrue\u001b[0m\u001b[1;33m)\u001b[0m\u001b[1;33m\u001b[0m\u001b[1;33m\u001b[0m\u001b[0m\n\u001b[0m",
            "\u001b[1;31mNameError\u001b[0m: name 'model' is not defined"
          ]
        }
      ]
    },
    {
      "cell_type": "markdown",
      "metadata": {
        "id": "uZ8DArirnrJK"
      },
      "source": [
        "**Resultats attendus**: \n",
        "\n",
        "<table style=\"width:40%\">     \n",
        "    <tr>\n",
        "        <td> **Train Accuracy**  </td> \n",
        "        <td> 99.04306220095694 % </td>\n",
        "    </tr>\n",
        "    <tr>\n",
        "        <td>**Test Accuracy** </td> \n",
        "        <td> 70.0 % </td>\n",
        "    </tr>\n",
        "</table> "
      ]
    },
    {
      "cell_type": "code",
      "metadata": {
        "id": "ogr7HVhfnrJL",
        "outputId": "32976693-00a0-46c9-a39a-7aa462273267"
      },
      "source": [
        "# figure : évolution du coût  \n",
        "costs = np.squeeze(d['costs'])\n",
        "plt.plot(costs)\n",
        "plt.ylabel('cost')\n",
        "plt.xlabel('itérations (par 100)')\n",
        "plt.title(\"pas =\" + str(d[\"learning_rate\"]))\n",
        "plt.show()"
      ],
      "execution_count": null,
      "outputs": [
        {
          "ename": "NameError",
          "evalue": "name 'd' is not defined",
          "output_type": "error",
          "traceback": [
            "\u001b[1;31m---------------------------------------------------------------------------\u001b[0m",
            "\u001b[1;31mNameError\u001b[0m                                 Traceback (most recent call last)",
            "\u001b[1;32m<ipython-input-43-59e3f3f47cc8>\u001b[0m in \u001b[0;36m<module>\u001b[1;34m\u001b[0m\n\u001b[0;32m      1\u001b[0m \u001b[1;31m# figure : évolution du coût\u001b[0m\u001b[1;33m\u001b[0m\u001b[1;33m\u001b[0m\u001b[1;33m\u001b[0m\u001b[0m\n\u001b[1;32m----> 2\u001b[1;33m \u001b[0mcosts\u001b[0m \u001b[1;33m=\u001b[0m \u001b[0mnp\u001b[0m\u001b[1;33m.\u001b[0m\u001b[0msqueeze\u001b[0m\u001b[1;33m(\u001b[0m\u001b[0md\u001b[0m\u001b[1;33m[\u001b[0m\u001b[1;34m'costs'\u001b[0m\u001b[1;33m]\u001b[0m\u001b[1;33m)\u001b[0m\u001b[1;33m\u001b[0m\u001b[1;33m\u001b[0m\u001b[0m\n\u001b[0m\u001b[0;32m      3\u001b[0m \u001b[0mplt\u001b[0m\u001b[1;33m.\u001b[0m\u001b[0mplot\u001b[0m\u001b[1;33m(\u001b[0m\u001b[0mcosts\u001b[0m\u001b[1;33m)\u001b[0m\u001b[1;33m\u001b[0m\u001b[1;33m\u001b[0m\u001b[0m\n\u001b[0;32m      4\u001b[0m \u001b[0mplt\u001b[0m\u001b[1;33m.\u001b[0m\u001b[0mylabel\u001b[0m\u001b[1;33m(\u001b[0m\u001b[1;34m'cost'\u001b[0m\u001b[1;33m)\u001b[0m\u001b[1;33m\u001b[0m\u001b[1;33m\u001b[0m\u001b[0m\n\u001b[0;32m      5\u001b[0m \u001b[0mplt\u001b[0m\u001b[1;33m.\u001b[0m\u001b[0mxlabel\u001b[0m\u001b[1;33m(\u001b[0m\u001b[1;34m'itérations (par 100)'\u001b[0m\u001b[1;33m)\u001b[0m\u001b[1;33m\u001b[0m\u001b[1;33m\u001b[0m\u001b[0m\n",
            "\u001b[1;31mNameError\u001b[0m: name 'd' is not defined"
          ]
        }
      ]
    },
    {
      "cell_type": "markdown",
      "metadata": {
        "id": "ryMCUk90nrJP"
      },
      "source": [
        "## 6 - Choix du pas d'adaptation ##\n",
        "\n",
        "Le code suivant mets en évidence l'importance du choix du pas d'adaptation. Exécuter le code & interprter. "
      ]
    },
    {
      "cell_type": "code",
      "metadata": {
        "id": "pWNl8cuknrJQ",
        "outputId": "04b52c46-7f8a-46f2-a943-96978ee23a29"
      },
      "source": [
        "learning_rates = [0.01, 0.001, 0.0001]\n",
        "models = {}\n",
        "for i in learning_rates:\n",
        "    print (\"learning rate is: \" + str(i))\n",
        "    models[str(i)] = model(train_set_x, train_set_y, test_set_x, test_set_y, num_iterations = 1500, learning_rate = i, print_cost = False)\n",
        "    print ('\\n' + \"-------------------------------------------------------\" + '\\n')\n",
        "\n",
        "for i in learning_rates:\n",
        "    plt.plot(np.squeeze(models[str(i)][\"costs\"]), label= str(models[str(i)][\"learning_rate\"]))\n",
        "\n",
        "plt.ylabel('cost')\n",
        "plt.xlabel('iterations')\n",
        "\n",
        "legend = plt.legend(loc='upper center', shadow=True)\n",
        "frame = legend.get_frame()\n",
        "frame.set_facecolor('0.90')\n",
        "plt.show()"
      ],
      "execution_count": null,
      "outputs": [
        {
          "name": "stdout",
          "output_type": "stream",
          "text": [
            "learning rate is: 0.01\n"
          ]
        },
        {
          "ename": "TypeError",
          "evalue": "cannot unpack non-iterable NoneType object",
          "output_type": "error",
          "traceback": [
            "\u001b[1;31m---------------------------------------------------------------------------\u001b[0m",
            "\u001b[1;31mTypeError\u001b[0m                                 Traceback (most recent call last)",
            "\u001b[1;32m<ipython-input-42-ef902a4c7685>\u001b[0m in \u001b[0;36m<module>\u001b[1;34m\u001b[0m\n\u001b[0;32m      3\u001b[0m \u001b[1;32mfor\u001b[0m \u001b[0mi\u001b[0m \u001b[1;32min\u001b[0m \u001b[0mlearning_rates\u001b[0m\u001b[1;33m:\u001b[0m\u001b[1;33m\u001b[0m\u001b[1;33m\u001b[0m\u001b[0m\n\u001b[0;32m      4\u001b[0m     \u001b[0mprint\u001b[0m \u001b[1;33m(\u001b[0m\u001b[1;34m\"learning rate is: \"\u001b[0m \u001b[1;33m+\u001b[0m \u001b[0mstr\u001b[0m\u001b[1;33m(\u001b[0m\u001b[0mi\u001b[0m\u001b[1;33m)\u001b[0m\u001b[1;33m)\u001b[0m\u001b[1;33m\u001b[0m\u001b[1;33m\u001b[0m\u001b[0m\n\u001b[1;32m----> 5\u001b[1;33m     \u001b[0mmodels\u001b[0m\u001b[1;33m[\u001b[0m\u001b[0mstr\u001b[0m\u001b[1;33m(\u001b[0m\u001b[0mi\u001b[0m\u001b[1;33m)\u001b[0m\u001b[1;33m]\u001b[0m \u001b[1;33m=\u001b[0m \u001b[0mmodel\u001b[0m\u001b[1;33m(\u001b[0m\u001b[0mtrain_set_x\u001b[0m\u001b[1;33m,\u001b[0m \u001b[0mtrain_set_y\u001b[0m\u001b[1;33m,\u001b[0m \u001b[0mtest_set_x\u001b[0m\u001b[1;33m,\u001b[0m \u001b[0mtest_set_y\u001b[0m\u001b[1;33m,\u001b[0m \u001b[0mnum_iterations\u001b[0m \u001b[1;33m=\u001b[0m \u001b[1;36m1500\u001b[0m\u001b[1;33m,\u001b[0m \u001b[0mlearning_rate\u001b[0m \u001b[1;33m=\u001b[0m \u001b[0mi\u001b[0m\u001b[1;33m,\u001b[0m \u001b[0mprint_cost\u001b[0m \u001b[1;33m=\u001b[0m \u001b[1;32mFalse\u001b[0m\u001b[1;33m)\u001b[0m\u001b[1;33m\u001b[0m\u001b[1;33m\u001b[0m\u001b[0m\n\u001b[0m\u001b[0;32m      6\u001b[0m     \u001b[0mprint\u001b[0m \u001b[1;33m(\u001b[0m\u001b[1;34m'\\n'\u001b[0m \u001b[1;33m+\u001b[0m \u001b[1;34m\"-------------------------------------------------------\"\u001b[0m \u001b[1;33m+\u001b[0m \u001b[1;34m'\\n'\u001b[0m\u001b[1;33m)\u001b[0m\u001b[1;33m\u001b[0m\u001b[1;33m\u001b[0m\u001b[0m\n\u001b[0;32m      7\u001b[0m \u001b[1;33m\u001b[0m\u001b[0m\n",
            "\u001b[1;32m<ipython-input-29-8bba59764a68>\u001b[0m in \u001b[0;36mmodel\u001b[1;34m(X_train, Y_train, X_test, Y_test, num_iterations, learning_rate, print_cost)\u001b[0m\n\u001b[0;32m      7\u001b[0m \u001b[1;33m\u001b[0m\u001b[0m\n\u001b[0;32m      8\u001b[0m     \u001b[1;31m# initialisation\u001b[0m\u001b[1;33m\u001b[0m\u001b[1;33m\u001b[0m\u001b[1;33m\u001b[0m\u001b[0m\n\u001b[1;32m----> 9\u001b[1;33m     \u001b[0mw\u001b[0m\u001b[1;33m,\u001b[0m \u001b[0mb\u001b[0m \u001b[1;33m=\u001b[0m \u001b[1;32mNone\u001b[0m\u001b[1;33m\u001b[0m\u001b[1;33m\u001b[0m\u001b[0m\n\u001b[0m\u001b[0;32m     10\u001b[0m \u001b[1;33m\u001b[0m\u001b[0m\n\u001b[0;32m     11\u001b[0m     \u001b[1;31m# Gradient descendent\u001b[0m\u001b[1;33m\u001b[0m\u001b[1;33m\u001b[0m\u001b[1;33m\u001b[0m\u001b[0m\n",
            "\u001b[1;31mTypeError\u001b[0m: cannot unpack non-iterable NoneType object"
          ]
        }
      ]
    },
    {
      "cell_type": "markdown",
      "metadata": {
        "id": "jDWYWYJwnrJS"
      },
      "source": [
        "## 7 - Tester vos propres images ##"
      ]
    },
    {
      "cell_type": "code",
      "metadata": {
        "id": "emPWzPTlnrJT",
        "outputId": "2db35f0d-7c60-420b-92e4-fa48324569cf"
      },
      "source": [
        "## START CODE HERE ## (PUT YOUR IMAGE NAME) \n",
        "my_image = \"im2.jpg\"   # change this to the name of your image file \n",
        "## END CODE HERE ##\n",
        "\n",
        "# We preprocess the image to fit your algorithm.\n",
        "fname = \"images/\" + my_image\n",
        "image = np.array(plt.imread(fname))\n",
        "my_image = skimage.transform.resize(image, output_shape=(64, 64)).reshape((1, 64*64*3)).T\n",
        "my_predicted_image = predict(d[\"w\"], d[\"b\"], my_image)\n",
        "\n",
        "plt.imshow(image)\n",
        "print(\"y = \" + str(np.squeeze(my_predicted_image)) + \", L'algorithme estime que \\\"\" + classes[int(np.squeeze(my_predicted_image)),].decode(\"utf-8\"))"
      ],
      "execution_count": null,
      "outputs": [
        {
          "ename": "AttributeError",
          "evalue": "module 'scipy.ndimage' has no attribute 'imread'",
          "output_type": "error",
          "traceback": [
            "\u001b[1;31m---------------------------------------------------------------------------\u001b[0m",
            "\u001b[1;31mAttributeError\u001b[0m                            Traceback (most recent call last)",
            "\u001b[1;32m<ipython-input-44-767726fe7b60>\u001b[0m in \u001b[0;36m<module>\u001b[1;34m\u001b[0m\n\u001b[0;32m      2\u001b[0m \u001b[0mmy_image\u001b[0m \u001b[1;33m=\u001b[0m \u001b[1;34m\"my_image.jpg\"\u001b[0m\u001b[1;33m\u001b[0m\u001b[1;33m\u001b[0m\u001b[0m\n\u001b[0;32m      3\u001b[0m \u001b[1;33m\u001b[0m\u001b[0m\n\u001b[1;32m----> 4\u001b[1;33m \u001b[0mimage\u001b[0m \u001b[1;33m=\u001b[0m \u001b[0mnp\u001b[0m\u001b[1;33m.\u001b[0m\u001b[0marray\u001b[0m\u001b[1;33m(\u001b[0m\u001b[0mndimage\u001b[0m\u001b[1;33m.\u001b[0m\u001b[0mimread\u001b[0m\u001b[1;33m(\u001b[0m\u001b[0mmy_image\u001b[0m\u001b[1;33m,\u001b[0m \u001b[0mflatten\u001b[0m\u001b[1;33m=\u001b[0m\u001b[1;32mFalse\u001b[0m\u001b[1;33m)\u001b[0m\u001b[1;33m)\u001b[0m\u001b[1;33m\u001b[0m\u001b[1;33m\u001b[0m\u001b[0m\n\u001b[0m\u001b[0;32m      5\u001b[0m \u001b[0mmy_image\u001b[0m \u001b[1;33m=\u001b[0m \u001b[0mscipy\u001b[0m\u001b[1;33m.\u001b[0m\u001b[0mmisc\u001b[0m\u001b[1;33m.\u001b[0m\u001b[0mimresize\u001b[0m\u001b[1;33m(\u001b[0m\u001b[0mimage\u001b[0m\u001b[1;33m,\u001b[0m \u001b[0msize\u001b[0m\u001b[1;33m=\u001b[0m\u001b[1;33m(\u001b[0m\u001b[0mnum_px\u001b[0m\u001b[1;33m,\u001b[0m\u001b[0mnum_px\u001b[0m\u001b[1;33m)\u001b[0m\u001b[1;33m)\u001b[0m\u001b[1;33m.\u001b[0m\u001b[0mreshape\u001b[0m\u001b[1;33m(\u001b[0m\u001b[1;33m(\u001b[0m\u001b[1;36m1\u001b[0m\u001b[1;33m,\u001b[0m \u001b[0mnum_px\u001b[0m\u001b[1;33m*\u001b[0m\u001b[0mnum_px\u001b[0m\u001b[1;33m*\u001b[0m\u001b[1;36m3\u001b[0m\u001b[1;33m)\u001b[0m\u001b[1;33m)\u001b[0m\u001b[1;33m.\u001b[0m\u001b[0mT\u001b[0m\u001b[1;33m\u001b[0m\u001b[1;33m\u001b[0m\u001b[0m\n\u001b[0;32m      6\u001b[0m \u001b[0mmy_predicted_image\u001b[0m \u001b[1;33m=\u001b[0m \u001b[0mpredict\u001b[0m\u001b[1;33m(\u001b[0m\u001b[0md\u001b[0m\u001b[1;33m[\u001b[0m\u001b[1;34m\"w\"\u001b[0m\u001b[1;33m]\u001b[0m\u001b[1;33m,\u001b[0m \u001b[0md\u001b[0m\u001b[1;33m[\u001b[0m\u001b[1;34m\"b\"\u001b[0m\u001b[1;33m]\u001b[0m\u001b[1;33m,\u001b[0m \u001b[0mmy_image\u001b[0m\u001b[1;33m)\u001b[0m\u001b[1;33m\u001b[0m\u001b[1;33m\u001b[0m\u001b[0m\n",
            "\u001b[1;31mAttributeError\u001b[0m: module 'scipy.ndimage' has no attribute 'imread'"
          ]
        }
      ]
    },
    {
      "cell_type": "code",
      "metadata": {
        "id": "vRu9xEEqnrJV"
      },
      "source": [
        ""
      ],
      "execution_count": null,
      "outputs": []
    }
  ]
}